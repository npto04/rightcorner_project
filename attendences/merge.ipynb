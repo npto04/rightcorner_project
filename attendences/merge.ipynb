{
 "cells": [
  {
   "cell_type": "code",
   "execution_count": 1,
   "metadata": {
    "ExecuteTime": {
     "end_time": "2024-01-23T16:57:02.659014100Z",
     "start_time": "2024-01-23T16:57:01.410915100Z"
    }
   },
   "outputs": [],
   "source": [
    "import pandas as pd"
   ]
  },
  {
   "cell_type": "markdown",
   "source": [
    "COLUMNS: Period, Org Code, Parent Org,"
   ],
   "metadata": {
    "collapsed": false
   }
  },
  {
   "cell_type": "markdown",
   "source": [
    "Write down the year you want to merge and check if the sheet name is correct.\n",
    "if all is set, run all the cells below."
   ],
   "metadata": {
    "collapsed": false
   }
  },
  {
   "cell_type": "code",
   "execution_count": 7,
   "outputs": [],
   "source": [
    "year = '2017'\n",
    "sheet_name = 'Provider Level Data'"
   ],
   "metadata": {
    "collapsed": false,
    "ExecuteTime": {
     "end_time": "2024-01-23T16:59:02.355515400Z",
     "start_time": "2024-01-23T16:59:02.344217100Z"
    }
   }
  },
  {
   "cell_type": "code",
   "execution_count": 11,
   "outputs": [],
   "source": [
    "from pathlib import Path\n",
    "files = list(Path(year).glob('*.xls'))"
   ],
   "metadata": {
    "collapsed": false,
    "ExecuteTime": {
     "end_time": "2024-01-23T17:00:10.767640Z",
     "start_time": "2024-01-23T17:00:10.740617Z"
    }
   }
  },
  {
   "cell_type": "code",
   "execution_count": 26,
   "outputs": [],
   "source": [
    "columns = \"Period,Org Code,Parent Org,Org name,Number of A&E attendances Type 1,Number of A&E attendances Type 2,Number of A&E attendances Other A&E Department,Number of attendances over 4hrs Type 1,Number of attendances over 4hrs Type 2,Number of attendances over 4hrs Other A&E Department,Patients who have waited 4-12 hs from DTA to admission,Patients who have waited 12+ hrs from DTA to admission,Emergency admissions via A&E - Type 1,Emergency admissions via A&E - Type 2,Emergency admissions via A&E - Other A&E department,Other emergency admissions\".split(',')\n"
   ],
   "metadata": {
    "collapsed": false,
    "ExecuteTime": {
     "end_time": "2024-01-23T17:12:36.952134900Z",
     "start_time": "2024-01-23T17:12:36.915051400Z"
    }
   }
  },
  {
   "cell_type": "code",
   "execution_count": 214,
   "outputs": [
    {
     "data": {
      "text/plain": "['Period',\n 'Org Code',\n 'Parent Org',\n 'Org name',\n 'Number of A&E attendances Type 1',\n 'Number of A&E attendances Type 2',\n 'Number of A&E attendances Other A&E Department',\n 'Number of attendances over 4hrs Type 1',\n 'Number of attendances over 4hrs Type 2',\n 'Number of attendances over 4hrs Other A&E Department',\n 'Patients who have waited 4-12 hs from DTA to admission',\n 'Patients who have waited 12+ hrs from DTA to admission',\n 'Emergency admissions via A&E - Type 1',\n 'Emergency admissions via A&E - Type 2',\n 'Emergency admissions via A&E - Other A&E department',\n 'Other emergency admissions']"
     },
     "execution_count": 214,
     "metadata": {},
     "output_type": "execute_result"
    }
   ],
   "source": [
    "columns"
   ],
   "metadata": {
    "collapsed": false,
    "ExecuteTime": {
     "end_time": "2024-01-23T16:48:39.135983800Z",
     "start_time": "2024-01-23T16:48:39.119975300Z"
    }
   }
  },
  {
   "cell_type": "code",
   "execution_count": 25,
   "outputs": [],
   "source": [
    "names_17 = ['Period', 'Org Code', 'Parent Org', 'Org name',\n",
    "            'Number of A&E attendances Type 1',\n",
    "            'Number of A&E attendances Type 2',\n",
    "            'Number of A&E attendances Other A&E Department',\n",
    "            'Total attendances',\n",
    "            'Type 1 Departments - Major A&E.1',\n",
    "            'Type 2 Departments - Single Specialty.1',\n",
    "            'Type 3 Departments - Other A&E/Minor Injury Unit.1',\n",
    "            'Total Attendances < 4 hours',\n",
    "            'Number of attendances over 4hrs Type 1',\n",
    "            'Number of attendances over 4hrs Type 2',\n",
    "            'Number of attendances over 4hrs Other A&E Department',\n",
    "            'Total Attendances > 4 hours',\n",
    "            'Percentage in 4 hours or less (type 1)',\n",
    "            'Percentage in 4 hours or less (all)',\n",
    "            'Emergency admissions via A&E - Type 1',\n",
    "            'Emergency admissions via A&E - Type 2',\n",
    "            'Emergency admissions via A&E - Other A&E department',\n",
    "            'Total Emergency Admissions via A&E',\n",
    "            'Other emergency admissions',\n",
    "            'Total Emergency Admissions',\n",
    "            'Patients who have waited 4-12 hs from DTA to admission',\n",
    "            'Patients who have waited 12+ hrs from DTA to admission']"
   ],
   "metadata": {
    "collapsed": false,
    "ExecuteTime": {
     "end_time": "2024-01-23T17:12:30.325329400Z",
     "start_time": "2024-01-23T17:12:30.304012800Z"
    }
   }
  },
  {
   "cell_type": "code",
   "execution_count": 13,
   "outputs": [],
   "source": [
    "names = ['Period',\n",
    "         'Org Code',\n",
    "         'Parent Org',\n",
    "         'Org name',\n",
    "         'Number of A&E attendances Type 1',\n",
    "         'Number of A&E attendances Type 2',\n",
    "         'Number of A&E attendances Other A&E Department',\n",
    "         'Total attendances',\n",
    "         'A&E attendances Booked Appointments Type 1',\n",
    "         'A&E attendances Booked Appointments Type 2',\n",
    "         'A&E attendances Booked Appointments Other Department',\n",
    "         'Total Attendances < 4 hours',\n",
    "         'Number of attendances over 4hrs Type 1',\n",
    "         'Number of attendances over 4hrs Type 2',\n",
    "         'Number of attendances over 4hrs Other A&E Department',\n",
    "         'Total Attendances > 4 hours',\n",
    "         'Percentage in 4 hours or less (type 1)',\n",
    "         'Percentage in 4 hours or less (all)',\n",
    "         'Emergency admissions via A&E - Type 1',\n",
    "         'Emergency admissions via A&E - Type 2',\n",
    "         'Emergency admissions via A&E - Other A&E department',\n",
    "         'Total Emergency Admissions via A&E',\n",
    "         'Other emergency admissions',\n",
    "         'Total Emergency Admissions',\n",
    "         'Patients who have waited 4-12 hs from DTA to admission',\n",
    "         'Patients who have waited 12+ hrs from DTA to admission'\n",
    "         ]"
   ],
   "metadata": {
    "collapsed": false,
    "ExecuteTime": {
     "end_time": "2024-01-23T17:00:26.010728900Z",
     "start_time": "2024-01-23T17:00:26.001733400Z"
    }
   }
  },
  {
   "cell_type": "code",
   "execution_count": 23,
   "outputs": [
    {
     "name": "stdout",
     "output_type": "stream",
     "text": [
      "Length mismatch: Expected axis has 22 elements, new values have 26 elements\n",
      "2017\\February-2017-AE-by-provider-q440L.xls\n",
      "Length mismatch: Expected axis has 22 elements, new values have 26 elements\n",
      "2017\\January-2017-AE-by-provider-qD8a6.xls\n",
      "Length mismatch: Expected axis has 22 elements, new values have 26 elements\n",
      "2017\\March-2017-AE-by-provider-43JyG.xls\n"
     ]
    }
   ],
   "source": [
    "attendance = pd.DataFrame()\n",
    "for file in files:\n",
    "    try:\n",
    "        data = pd.read_excel(file,sheet_name=sheet_name,skiprows=15).iloc[2:,:-1].copy()\n",
    "        data.columns = names_17\n",
    "        data['Period'] = 'MSitAE' + '-' + file.name.split('-')[0].upper() + '-' + file.name.split('-')[1]\n",
    "    except Exception as e:\n",
    "        print(e)\n",
    "        print(file)\n",
    "    attendance = pd.concat([attendance,data.copy()])"
   ],
   "metadata": {
    "collapsed": false,
    "ExecuteTime": {
     "end_time": "2024-01-23T17:12:07.484777200Z",
     "start_time": "2024-01-23T17:12:03.419896900Z"
    }
   }
  },
  {
   "cell_type": "code",
   "execution_count": 30,
   "outputs": [],
   "source": [
    "attendance[columns].to_csv(f'{year}/excel_merging_{year}.csv',index=False)"
   ],
   "metadata": {
    "collapsed": false,
    "ExecuteTime": {
     "end_time": "2024-01-23T17:14:55.938533200Z",
     "start_time": "2024-01-23T17:14:55.794938700Z"
    }
   }
  },
  {
   "cell_type": "code",
   "execution_count": 8,
   "outputs": [],
   "source": [
    "files_csv = list(Path(year).glob('*.csv'))\n",
    "attendance_datas = pd.DataFrame()"
   ],
   "metadata": {
    "collapsed": false,
    "ExecuteTime": {
     "end_time": "2024-01-23T16:59:15.864682300Z",
     "start_time": "2024-01-23T16:59:15.846427100Z"
    }
   }
  },
  {
   "cell_type": "code",
   "execution_count": 9,
   "outputs": [],
   "source": [
    "for file in files_csv:\n",
    "    data = pd.read_csv(file)\n",
    "    attendance_datas = pd.concat([attendance_datas,data.copy()])"
   ],
   "metadata": {
    "collapsed": false,
    "ExecuteTime": {
     "end_time": "2024-01-23T16:59:19.146872400Z",
     "start_time": "2024-01-23T16:59:19.136846300Z"
    }
   }
  },
  {
   "cell_type": "code",
   "execution_count": 10,
   "outputs": [
    {
     "data": {
      "text/plain": "Empty DataFrame\nColumns: []\nIndex: []",
      "text/html": "<div>\n<style scoped>\n    .dataframe tbody tr th:only-of-type {\n        vertical-align: middle;\n    }\n\n    .dataframe tbody tr th {\n        vertical-align: top;\n    }\n\n    .dataframe thead th {\n        text-align: right;\n    }\n</style>\n<table border=\"1\" class=\"dataframe\">\n  <thead>\n    <tr style=\"text-align: right;\">\n      <th></th>\n    </tr>\n  </thead>\n  <tbody>\n  </tbody>\n</table>\n</div>"
     },
     "execution_count": 10,
     "metadata": {},
     "output_type": "execute_result"
    }
   ],
   "source": [
    "attendance_datas"
   ],
   "metadata": {
    "collapsed": false,
    "ExecuteTime": {
     "end_time": "2024-01-23T16:59:25.207236800Z",
     "start_time": "2024-01-23T16:59:25.162642200Z"
    }
   }
  },
  {
   "cell_type": "code",
   "execution_count": 222,
   "outputs": [
    {
     "data": {
      "text/plain": "                    Period Org Code  \\\n0        MSitAE-April-2018   C82009   \n1        MSitAE-April-2018    NLO11   \n2        MSitAE-April-2018    NLO01   \n3        MSitAE-April-2018      REF   \n4        MSitAE-April-2018      RWY   \n..                     ...      ...   \n235  MSitAE-SEPTEMBER-2018      RWD   \n236  MSitAE-SEPTEMBER-2018      RXG   \n237  MSitAE-SEPTEMBER-2018      RQX   \n238  MSitAE-SEPTEMBER-2018      RCD   \n239                  TOTAL    TOTAL   \n\n                                           Parent Org  \\\n0    NHS ENGLAND MIDLANDS AND EAST (CENTRAL MIDLANDS)   \n1    NHS ENGLAND MIDLANDS AND EAST (CENTRAL MIDLANDS)   \n2          NHS ENGLAND NORTH (CUMBRIA AND NORTH EAST)   \n3           NHS ENGLAND SOUTH WEST (SOUTH WEST SOUTH)   \n4            NHS ENGLAND NORTH (YORKSHIRE AND HUMBER)   \n..                                                ...   \n235  NHS ENGLAND MIDLANDS AND EAST (CENTRAL MIDLANDS)   \n236          NHS ENGLAND NORTH (YORKSHIRE AND HUMBER)   \n237                                NHS ENGLAND LONDON   \n238          NHS ENGLAND NORTH (YORKSHIRE AND HUMBER)   \n239                                             TOTAL   \n\n                                              Org name  \\\n0                            MARKET HARBOROUGH MED.CTR   \n1                 MARKET HARBOROUGH URGENT CARE CENTRE   \n2                         NORTHERN DOCTORS URGENT CARE   \n3                   ROYAL CORNWALL HOSPITALS NHS TRUST   \n4     CALDERDALE AND HUDDERSFIELD NHS FOUNDATION TRUST   \n..                                                 ...   \n235            UNITED LINCOLNSHIRE HOSPITALS NHS TRUST   \n236  SOUTH WEST YORKSHIRE PARTNERSHIP NHS FOUNDATIO...   \n237  HOMERTON UNIVERSITY HOSPITAL NHS FOUNDATION TRUST   \n238        HARROGATE AND DISTRICT NHS FOUNDATION TRUST   \n239                                              TOTAL   \n\n     Number of A&E attendances Type 1  Number of A&E attendances Type 2  \\\n0                                   0                                 0   \n1                                   0                                 0   \n2                                   0                                 0   \n3                                6014                                 0   \n4                               11892                                 0   \n..                                ...                               ...   \n235                             11990                                 0   \n236                                 0                                 0   \n237                             10120                                 0   \n238                              4234                                 0   \n239                           1269088                             47622   \n\n     Number of A&E attendances Other A&E Department  \\\n0                                               356   \n1                                               637   \n2                                              4532   \n3                                             11044   \n4                                                 0   \n..                                              ...   \n235                                            1593   \n236                                               0   \n237                                               0   \n238                                             774   \n239                                          688985   \n\n     Number of attendances over 4hrs Type 1  \\\n0                                         0   \n1                                         0   \n2                                         0   \n3                                       355   \n4                                      1009   \n..                                      ...   \n235                                    4086   \n236                                       0   \n237                                     478   \n238                                     236   \n239                                  216210   \n\n     Number of attendances over 4hrs Type 2  \\\n0                                         0   \n1                                         0   \n2                                         0   \n3                                         0   \n4                                         0   \n..                                      ...   \n235                                       0   \n236                                       0   \n237                                       0   \n238                                       0   \n239                                     622   \n\n     Number of attendances over 4hrs Other A&E Department  \\\n0                                                    0      \n1                                                   14      \n2                                                  154      \n3                                                   67      \n4                                                    0      \n..                                                 ...      \n235                                                  0      \n236                                                  0      \n237                                                  0      \n238                                                  0      \n239                                               4924      \n\n     Patients who have waited 4-12 hs from DTA to admission  \\\n0                                                    0        \n1                                                    0        \n2                                                    0        \n3                                                   49        \n4                                                  192        \n..                                                 ...        \n235                                               1286        \n236                                                  0        \n237                                                 52        \n238                                                  5        \n239                                              44428        \n\n     Patients who have waited 12+ hrs from DTA to admission  \\\n0                                                    0        \n1                                                    0        \n2                                                    0        \n3                                                    0        \n4                                                    0        \n..                                                 ...        \n235                                                  1        \n236                                                  0        \n237                                                  0        \n238                                                  0        \n239                                                154        \n\n     Emergency admissions via A&E - Type 1  \\\n0                                        0   \n1                                        0   \n2                                        0   \n3                                     2685   \n4                                     2939   \n..                                     ...   \n235                                   3659   \n236                                      0   \n237                                   1650   \n238                                    937   \n239                                 379951   \n\n     Emergency admissions via A&E - Type 2  \\\n0                                        0   \n1                                        0   \n2                                        0   \n3                                        0   \n4                                        0   \n..                                     ...   \n235                                      0   \n236                                      0   \n237                                      0   \n238                                      0   \n239                                   1389   \n\n     Emergency admissions via A&E - Other A&E department  \\\n0                                                    0     \n1                                                    0     \n2                                                    0     \n3                                                   33     \n4                                                    0     \n..                                                 ...     \n235                                                  0     \n236                                                  0     \n237                                                  0     \n238                                                  0     \n239                                               4635     \n\n     Other emergency admissions  \n0                             0  \n1                             0  \n2                             0  \n3                          1036  \n4                          1378  \n..                          ...  \n235                        1041  \n236                         120  \n237                         246  \n238                         479  \n239                      124347  \n\n[2189 rows x 16 columns]",
      "text/html": "<div>\n<style scoped>\n    .dataframe tbody tr th:only-of-type {\n        vertical-align: middle;\n    }\n\n    .dataframe tbody tr th {\n        vertical-align: top;\n    }\n\n    .dataframe thead th {\n        text-align: right;\n    }\n</style>\n<table border=\"1\" class=\"dataframe\">\n  <thead>\n    <tr style=\"text-align: right;\">\n      <th></th>\n      <th>Period</th>\n      <th>Org Code</th>\n      <th>Parent Org</th>\n      <th>Org name</th>\n      <th>Number of A&amp;E attendances Type 1</th>\n      <th>Number of A&amp;E attendances Type 2</th>\n      <th>Number of A&amp;E attendances Other A&amp;E Department</th>\n      <th>Number of attendances over 4hrs Type 1</th>\n      <th>Number of attendances over 4hrs Type 2</th>\n      <th>Number of attendances over 4hrs Other A&amp;E Department</th>\n      <th>Patients who have waited 4-12 hs from DTA to admission</th>\n      <th>Patients who have waited 12+ hrs from DTA to admission</th>\n      <th>Emergency admissions via A&amp;E - Type 1</th>\n      <th>Emergency admissions via A&amp;E - Type 2</th>\n      <th>Emergency admissions via A&amp;E - Other A&amp;E department</th>\n      <th>Other emergency admissions</th>\n    </tr>\n  </thead>\n  <tbody>\n    <tr>\n      <th>0</th>\n      <td>MSitAE-April-2018</td>\n      <td>C82009</td>\n      <td>NHS ENGLAND MIDLANDS AND EAST (CENTRAL MIDLANDS)</td>\n      <td>MARKET HARBOROUGH MED.CTR</td>\n      <td>0</td>\n      <td>0</td>\n      <td>356</td>\n      <td>0</td>\n      <td>0</td>\n      <td>0</td>\n      <td>0</td>\n      <td>0</td>\n      <td>0</td>\n      <td>0</td>\n      <td>0</td>\n      <td>0</td>\n    </tr>\n    <tr>\n      <th>1</th>\n      <td>MSitAE-April-2018</td>\n      <td>NLO11</td>\n      <td>NHS ENGLAND MIDLANDS AND EAST (CENTRAL MIDLANDS)</td>\n      <td>MARKET HARBOROUGH URGENT CARE CENTRE</td>\n      <td>0</td>\n      <td>0</td>\n      <td>637</td>\n      <td>0</td>\n      <td>0</td>\n      <td>14</td>\n      <td>0</td>\n      <td>0</td>\n      <td>0</td>\n      <td>0</td>\n      <td>0</td>\n      <td>0</td>\n    </tr>\n    <tr>\n      <th>2</th>\n      <td>MSitAE-April-2018</td>\n      <td>NLO01</td>\n      <td>NHS ENGLAND NORTH (CUMBRIA AND NORTH EAST)</td>\n      <td>NORTHERN DOCTORS URGENT CARE</td>\n      <td>0</td>\n      <td>0</td>\n      <td>4532</td>\n      <td>0</td>\n      <td>0</td>\n      <td>154</td>\n      <td>0</td>\n      <td>0</td>\n      <td>0</td>\n      <td>0</td>\n      <td>0</td>\n      <td>0</td>\n    </tr>\n    <tr>\n      <th>3</th>\n      <td>MSitAE-April-2018</td>\n      <td>REF</td>\n      <td>NHS ENGLAND SOUTH WEST (SOUTH WEST SOUTH)</td>\n      <td>ROYAL CORNWALL HOSPITALS NHS TRUST</td>\n      <td>6014</td>\n      <td>0</td>\n      <td>11044</td>\n      <td>355</td>\n      <td>0</td>\n      <td>67</td>\n      <td>49</td>\n      <td>0</td>\n      <td>2685</td>\n      <td>0</td>\n      <td>33</td>\n      <td>1036</td>\n    </tr>\n    <tr>\n      <th>4</th>\n      <td>MSitAE-April-2018</td>\n      <td>RWY</td>\n      <td>NHS ENGLAND NORTH (YORKSHIRE AND HUMBER)</td>\n      <td>CALDERDALE AND HUDDERSFIELD NHS FOUNDATION TRUST</td>\n      <td>11892</td>\n      <td>0</td>\n      <td>0</td>\n      <td>1009</td>\n      <td>0</td>\n      <td>0</td>\n      <td>192</td>\n      <td>0</td>\n      <td>2939</td>\n      <td>0</td>\n      <td>0</td>\n      <td>1378</td>\n    </tr>\n    <tr>\n      <th>...</th>\n      <td>...</td>\n      <td>...</td>\n      <td>...</td>\n      <td>...</td>\n      <td>...</td>\n      <td>...</td>\n      <td>...</td>\n      <td>...</td>\n      <td>...</td>\n      <td>...</td>\n      <td>...</td>\n      <td>...</td>\n      <td>...</td>\n      <td>...</td>\n      <td>...</td>\n      <td>...</td>\n    </tr>\n    <tr>\n      <th>235</th>\n      <td>MSitAE-SEPTEMBER-2018</td>\n      <td>RWD</td>\n      <td>NHS ENGLAND MIDLANDS AND EAST (CENTRAL MIDLANDS)</td>\n      <td>UNITED LINCOLNSHIRE HOSPITALS NHS TRUST</td>\n      <td>11990</td>\n      <td>0</td>\n      <td>1593</td>\n      <td>4086</td>\n      <td>0</td>\n      <td>0</td>\n      <td>1286</td>\n      <td>1</td>\n      <td>3659</td>\n      <td>0</td>\n      <td>0</td>\n      <td>1041</td>\n    </tr>\n    <tr>\n      <th>236</th>\n      <td>MSitAE-SEPTEMBER-2018</td>\n      <td>RXG</td>\n      <td>NHS ENGLAND NORTH (YORKSHIRE AND HUMBER)</td>\n      <td>SOUTH WEST YORKSHIRE PARTNERSHIP NHS FOUNDATIO...</td>\n      <td>0</td>\n      <td>0</td>\n      <td>0</td>\n      <td>0</td>\n      <td>0</td>\n      <td>0</td>\n      <td>0</td>\n      <td>0</td>\n      <td>0</td>\n      <td>0</td>\n      <td>0</td>\n      <td>120</td>\n    </tr>\n    <tr>\n      <th>237</th>\n      <td>MSitAE-SEPTEMBER-2018</td>\n      <td>RQX</td>\n      <td>NHS ENGLAND LONDON</td>\n      <td>HOMERTON UNIVERSITY HOSPITAL NHS FOUNDATION TRUST</td>\n      <td>10120</td>\n      <td>0</td>\n      <td>0</td>\n      <td>478</td>\n      <td>0</td>\n      <td>0</td>\n      <td>52</td>\n      <td>0</td>\n      <td>1650</td>\n      <td>0</td>\n      <td>0</td>\n      <td>246</td>\n    </tr>\n    <tr>\n      <th>238</th>\n      <td>MSitAE-SEPTEMBER-2018</td>\n      <td>RCD</td>\n      <td>NHS ENGLAND NORTH (YORKSHIRE AND HUMBER)</td>\n      <td>HARROGATE AND DISTRICT NHS FOUNDATION TRUST</td>\n      <td>4234</td>\n      <td>0</td>\n      <td>774</td>\n      <td>236</td>\n      <td>0</td>\n      <td>0</td>\n      <td>5</td>\n      <td>0</td>\n      <td>937</td>\n      <td>0</td>\n      <td>0</td>\n      <td>479</td>\n    </tr>\n    <tr>\n      <th>239</th>\n      <td>TOTAL</td>\n      <td>TOTAL</td>\n      <td>TOTAL</td>\n      <td>TOTAL</td>\n      <td>1269088</td>\n      <td>47622</td>\n      <td>688985</td>\n      <td>216210</td>\n      <td>622</td>\n      <td>4924</td>\n      <td>44428</td>\n      <td>154</td>\n      <td>379951</td>\n      <td>1389</td>\n      <td>4635</td>\n      <td>124347</td>\n    </tr>\n  </tbody>\n</table>\n<p>2189 rows × 16 columns</p>\n</div>"
     },
     "execution_count": 222,
     "metadata": {},
     "output_type": "execute_result"
    }
   ],
   "source": [
    "attendance_datas[columns]"
   ],
   "metadata": {
    "collapsed": false,
    "ExecuteTime": {
     "end_time": "2024-01-23T16:53:03.498436700Z",
     "start_time": "2024-01-23T16:53:03.472144Z"
    }
   }
  },
  {
   "cell_type": "code",
   "execution_count": 223,
   "outputs": [],
   "source": [
    "attendances = pd.concat([attendance_datas[columns],attendance[columns]])"
   ],
   "metadata": {
    "collapsed": false,
    "ExecuteTime": {
     "end_time": "2024-01-23T16:54:30.324345Z",
     "start_time": "2024-01-23T16:54:30.276956Z"
    }
   }
  },
  {
   "cell_type": "code",
   "execution_count": 224,
   "outputs": [
    {
     "data": {
      "text/plain": "                Period Org Code  \\\n0    MSitAE-April-2018   C82009   \n1    MSitAE-April-2018    NLO11   \n2    MSitAE-April-2018    NLO01   \n3    MSitAE-April-2018      REF   \n4    MSitAE-April-2018      RWY   \n..                 ...      ...   \n479  MSitAE-MARCH-2018      NaN   \n480  MSitAE-MARCH-2018      NaN   \n481  MSitAE-MARCH-2018      NaN   \n482  MSitAE-MARCH-2018      NaN   \n483  MSitAE-MARCH-2018      NaN   \n\n                                           Parent Org  \\\n0    NHS ENGLAND MIDLANDS AND EAST (CENTRAL MIDLANDS)   \n1    NHS ENGLAND MIDLANDS AND EAST (CENTRAL MIDLANDS)   \n2          NHS ENGLAND NORTH (CUMBRIA AND NORTH EAST)   \n3           NHS ENGLAND SOUTH WEST (SOUTH WEST SOUTH)   \n4            NHS ENGLAND NORTH (YORKSHIRE AND HUMBER)   \n..                                                ...   \n479                                               NaN   \n480                                               NaN   \n481                                               NaN   \n482                                               NaN   \n483                                               NaN   \n\n                                             Org name  \\\n0                           MARKET HARBOROUGH MED.CTR   \n1                MARKET HARBOROUGH URGENT CARE CENTRE   \n2                        NORTHERN DOCTORS URGENT CARE   \n3                  ROYAL CORNWALL HOSPITALS NHS TRUST   \n4    CALDERDALE AND HUDDERSFIELD NHS FOUNDATION TRUST   \n..                                                ...   \n479                                               NaN   \n480                                               NaN   \n481                                               NaN   \n482                                               NaN   \n483                                               NaN   \n\n     Number of A&E attendances Type 1  Number of A&E attendances Type 2  \\\n0                                 0.0                               0.0   \n1                                 0.0                               0.0   \n2                                 0.0                               0.0   \n3                              6014.0                               0.0   \n4                             11892.0                               0.0   \n..                                ...                               ...   \n479                               NaN                               NaN   \n480                               NaN                               NaN   \n481                               NaN                               NaN   \n482                               NaN                               NaN   \n483                               NaN                               NaN   \n\n     Number of A&E attendances Other A&E Department  \\\n0                                             356.0   \n1                                             637.0   \n2                                            4532.0   \n3                                           11044.0   \n4                                               0.0   \n..                                              ...   \n479                                             NaN   \n480                                             NaN   \n481                                             NaN   \n482                                             NaN   \n483                                             NaN   \n\n     Number of attendances over 4hrs Type 1  \\\n0                                       0.0   \n1                                       0.0   \n2                                       0.0   \n3                                     355.0   \n4                                    1009.0   \n..                                      ...   \n479                                     NaN   \n480                                     NaN   \n481                                     NaN   \n482                                     NaN   \n483                                     NaN   \n\n     Number of attendances over 4hrs Type 2  \\\n0                                       0.0   \n1                                       0.0   \n2                                       0.0   \n3                                       0.0   \n4                                       0.0   \n..                                      ...   \n479                                     NaN   \n480                                     NaN   \n481                                     NaN   \n482                                     NaN   \n483                                     NaN   \n\n     Number of attendances over 4hrs Other A&E Department  \\\n0                                                  0.0      \n1                                                 14.0      \n2                                                154.0      \n3                                                 67.0      \n4                                                  0.0      \n..                                                 ...      \n479                                                NaN      \n480                                                NaN      \n481                                                NaN      \n482                                                NaN      \n483                                                NaN      \n\n     Patients who have waited 4-12 hs from DTA to admission  \\\n0                                                  0.0        \n1                                                  0.0        \n2                                                  0.0        \n3                                                 49.0        \n4                                                192.0        \n..                                                 ...        \n479                                                NaN        \n480                                                NaN        \n481                                                NaN        \n482                                                NaN        \n483                                                NaN        \n\n     Patients who have waited 12+ hrs from DTA to admission  \\\n0                                                  0.0        \n1                                                  0.0        \n2                                                  0.0        \n3                                                  0.0        \n4                                                  0.0        \n..                                                 ...        \n479                                                NaN        \n480                                                NaN        \n481                                                NaN        \n482                                                NaN        \n483                                                NaN        \n\n     Emergency admissions via A&E - Type 1  \\\n0                                      0.0   \n1                                      0.0   \n2                                      0.0   \n3                                   2685.0   \n4                                   2939.0   \n..                                     ...   \n479                                    NaN   \n480                                    NaN   \n481                                    NaN   \n482                                    NaN   \n483                                    NaN   \n\n     Emergency admissions via A&E - Type 2  \\\n0                                      0.0   \n1                                      0.0   \n2                                      0.0   \n3                                      0.0   \n4                                      0.0   \n..                                     ...   \n479                                    NaN   \n480                                    NaN   \n481                                    NaN   \n482                                    NaN   \n483                                    NaN   \n\n     Emergency admissions via A&E - Other A&E department  \\\n0                                                  0.0     \n1                                                  0.0     \n2                                                  0.0     \n3                                                 33.0     \n4                                                  0.0     \n..                                                 ...     \n479                                                NaN     \n480                                                NaN     \n481                                                NaN     \n482                                                NaN     \n483                                                NaN     \n\n     Other emergency admissions  \n0                           0.0  \n1                           0.0  \n2                           0.0  \n3                        1036.0  \n4                        1378.0  \n..                          ...  \n479                         NaN  \n480                         NaN  \n481                         NaN  \n482                         NaN  \n483                         NaN  \n\n[3635 rows x 16 columns]",
      "text/html": "<div>\n<style scoped>\n    .dataframe tbody tr th:only-of-type {\n        vertical-align: middle;\n    }\n\n    .dataframe tbody tr th {\n        vertical-align: top;\n    }\n\n    .dataframe thead th {\n        text-align: right;\n    }\n</style>\n<table border=\"1\" class=\"dataframe\">\n  <thead>\n    <tr style=\"text-align: right;\">\n      <th></th>\n      <th>Period</th>\n      <th>Org Code</th>\n      <th>Parent Org</th>\n      <th>Org name</th>\n      <th>Number of A&amp;E attendances Type 1</th>\n      <th>Number of A&amp;E attendances Type 2</th>\n      <th>Number of A&amp;E attendances Other A&amp;E Department</th>\n      <th>Number of attendances over 4hrs Type 1</th>\n      <th>Number of attendances over 4hrs Type 2</th>\n      <th>Number of attendances over 4hrs Other A&amp;E Department</th>\n      <th>Patients who have waited 4-12 hs from DTA to admission</th>\n      <th>Patients who have waited 12+ hrs from DTA to admission</th>\n      <th>Emergency admissions via A&amp;E - Type 1</th>\n      <th>Emergency admissions via A&amp;E - Type 2</th>\n      <th>Emergency admissions via A&amp;E - Other A&amp;E department</th>\n      <th>Other emergency admissions</th>\n    </tr>\n  </thead>\n  <tbody>\n    <tr>\n      <th>0</th>\n      <td>MSitAE-April-2018</td>\n      <td>C82009</td>\n      <td>NHS ENGLAND MIDLANDS AND EAST (CENTRAL MIDLANDS)</td>\n      <td>MARKET HARBOROUGH MED.CTR</td>\n      <td>0.0</td>\n      <td>0.0</td>\n      <td>356.0</td>\n      <td>0.0</td>\n      <td>0.0</td>\n      <td>0.0</td>\n      <td>0.0</td>\n      <td>0.0</td>\n      <td>0.0</td>\n      <td>0.0</td>\n      <td>0.0</td>\n      <td>0.0</td>\n    </tr>\n    <tr>\n      <th>1</th>\n      <td>MSitAE-April-2018</td>\n      <td>NLO11</td>\n      <td>NHS ENGLAND MIDLANDS AND EAST (CENTRAL MIDLANDS)</td>\n      <td>MARKET HARBOROUGH URGENT CARE CENTRE</td>\n      <td>0.0</td>\n      <td>0.0</td>\n      <td>637.0</td>\n      <td>0.0</td>\n      <td>0.0</td>\n      <td>14.0</td>\n      <td>0.0</td>\n      <td>0.0</td>\n      <td>0.0</td>\n      <td>0.0</td>\n      <td>0.0</td>\n      <td>0.0</td>\n    </tr>\n    <tr>\n      <th>2</th>\n      <td>MSitAE-April-2018</td>\n      <td>NLO01</td>\n      <td>NHS ENGLAND NORTH (CUMBRIA AND NORTH EAST)</td>\n      <td>NORTHERN DOCTORS URGENT CARE</td>\n      <td>0.0</td>\n      <td>0.0</td>\n      <td>4532.0</td>\n      <td>0.0</td>\n      <td>0.0</td>\n      <td>154.0</td>\n      <td>0.0</td>\n      <td>0.0</td>\n      <td>0.0</td>\n      <td>0.0</td>\n      <td>0.0</td>\n      <td>0.0</td>\n    </tr>\n    <tr>\n      <th>3</th>\n      <td>MSitAE-April-2018</td>\n      <td>REF</td>\n      <td>NHS ENGLAND SOUTH WEST (SOUTH WEST SOUTH)</td>\n      <td>ROYAL CORNWALL HOSPITALS NHS TRUST</td>\n      <td>6014.0</td>\n      <td>0.0</td>\n      <td>11044.0</td>\n      <td>355.0</td>\n      <td>0.0</td>\n      <td>67.0</td>\n      <td>49.0</td>\n      <td>0.0</td>\n      <td>2685.0</td>\n      <td>0.0</td>\n      <td>33.0</td>\n      <td>1036.0</td>\n    </tr>\n    <tr>\n      <th>4</th>\n      <td>MSitAE-April-2018</td>\n      <td>RWY</td>\n      <td>NHS ENGLAND NORTH (YORKSHIRE AND HUMBER)</td>\n      <td>CALDERDALE AND HUDDERSFIELD NHS FOUNDATION TRUST</td>\n      <td>11892.0</td>\n      <td>0.0</td>\n      <td>0.0</td>\n      <td>1009.0</td>\n      <td>0.0</td>\n      <td>0.0</td>\n      <td>192.0</td>\n      <td>0.0</td>\n      <td>2939.0</td>\n      <td>0.0</td>\n      <td>0.0</td>\n      <td>1378.0</td>\n    </tr>\n    <tr>\n      <th>...</th>\n      <td>...</td>\n      <td>...</td>\n      <td>...</td>\n      <td>...</td>\n      <td>...</td>\n      <td>...</td>\n      <td>...</td>\n      <td>...</td>\n      <td>...</td>\n      <td>...</td>\n      <td>...</td>\n      <td>...</td>\n      <td>...</td>\n      <td>...</td>\n      <td>...</td>\n      <td>...</td>\n    </tr>\n    <tr>\n      <th>479</th>\n      <td>MSitAE-MARCH-2018</td>\n      <td>NaN</td>\n      <td>NaN</td>\n      <td>NaN</td>\n      <td>NaN</td>\n      <td>NaN</td>\n      <td>NaN</td>\n      <td>NaN</td>\n      <td>NaN</td>\n      <td>NaN</td>\n      <td>NaN</td>\n      <td>NaN</td>\n      <td>NaN</td>\n      <td>NaN</td>\n      <td>NaN</td>\n      <td>NaN</td>\n    </tr>\n    <tr>\n      <th>480</th>\n      <td>MSitAE-MARCH-2018</td>\n      <td>NaN</td>\n      <td>NaN</td>\n      <td>NaN</td>\n      <td>NaN</td>\n      <td>NaN</td>\n      <td>NaN</td>\n      <td>NaN</td>\n      <td>NaN</td>\n      <td>NaN</td>\n      <td>NaN</td>\n      <td>NaN</td>\n      <td>NaN</td>\n      <td>NaN</td>\n      <td>NaN</td>\n      <td>NaN</td>\n    </tr>\n    <tr>\n      <th>481</th>\n      <td>MSitAE-MARCH-2018</td>\n      <td>NaN</td>\n      <td>NaN</td>\n      <td>NaN</td>\n      <td>NaN</td>\n      <td>NaN</td>\n      <td>NaN</td>\n      <td>NaN</td>\n      <td>NaN</td>\n      <td>NaN</td>\n      <td>NaN</td>\n      <td>NaN</td>\n      <td>NaN</td>\n      <td>NaN</td>\n      <td>NaN</td>\n      <td>NaN</td>\n    </tr>\n    <tr>\n      <th>482</th>\n      <td>MSitAE-MARCH-2018</td>\n      <td>NaN</td>\n      <td>NaN</td>\n      <td>NaN</td>\n      <td>NaN</td>\n      <td>NaN</td>\n      <td>NaN</td>\n      <td>NaN</td>\n      <td>NaN</td>\n      <td>NaN</td>\n      <td>NaN</td>\n      <td>NaN</td>\n      <td>NaN</td>\n      <td>NaN</td>\n      <td>NaN</td>\n      <td>NaN</td>\n    </tr>\n    <tr>\n      <th>483</th>\n      <td>MSitAE-MARCH-2018</td>\n      <td>NaN</td>\n      <td>NaN</td>\n      <td>NaN</td>\n      <td>NaN</td>\n      <td>NaN</td>\n      <td>NaN</td>\n      <td>NaN</td>\n      <td>NaN</td>\n      <td>NaN</td>\n      <td>NaN</td>\n      <td>NaN</td>\n      <td>NaN</td>\n      <td>NaN</td>\n      <td>NaN</td>\n      <td>NaN</td>\n    </tr>\n  </tbody>\n</table>\n<p>3635 rows × 16 columns</p>\n</div>"
     },
     "execution_count": 224,
     "metadata": {},
     "output_type": "execute_result"
    }
   ],
   "source": [
    "attendances"
   ],
   "metadata": {
    "collapsed": false,
    "ExecuteTime": {
     "end_time": "2024-01-23T16:54:34.857739Z",
     "start_time": "2024-01-23T16:54:34.812107Z"
    }
   }
  },
  {
   "cell_type": "code",
   "execution_count": 28,
   "outputs": [
    {
     "ename": "NameError",
     "evalue": "name 'attendances' is not defined",
     "output_type": "error",
     "traceback": [
      "\u001B[1;31m---------------------------------------------------------------------------\u001B[0m",
      "\u001B[1;31mNameError\u001B[0m                                 Traceback (most recent call last)",
      "Cell \u001B[1;32mIn[28], line 1\u001B[0m\n\u001B[1;32m----> 1\u001B[0m \u001B[43mattendances\u001B[49m\u001B[38;5;241m.\u001B[39mto_csv(\u001B[38;5;124mf\u001B[39m\u001B[38;5;124m'\u001B[39m\u001B[38;5;132;01m{\u001B[39;00myear\u001B[38;5;132;01m}\u001B[39;00m\u001B[38;5;124m/excel_merging_\u001B[39m\u001B[38;5;132;01m{\u001B[39;00myear\u001B[38;5;132;01m}\u001B[39;00m\u001B[38;5;124m.csv\u001B[39m\u001B[38;5;124m'\u001B[39m,index\u001B[38;5;241m=\u001B[39m\u001B[38;5;28;01mFalse\u001B[39;00m)\n",
      "\u001B[1;31mNameError\u001B[0m: name 'attendances' is not defined"
     ]
    }
   ],
   "source": [
    "attendances.to_csv(f'{year}/excel_merging_{year}.csv',index=False)"
   ],
   "metadata": {
    "collapsed": false,
    "ExecuteTime": {
     "end_time": "2024-01-23T17:13:19.652541900Z",
     "start_time": "2024-01-23T17:13:19.572757100Z"
    }
   }
  },
  {
   "cell_type": "code",
   "execution_count": null,
   "outputs": [],
   "source": [],
   "metadata": {
    "collapsed": false
   }
  }
 ],
 "metadata": {
  "kernelspec": {
   "display_name": ".venv",
   "language": "python",
   "name": "python3"
  },
  "language_info": {
   "name": "python",
   "version": "3.11.7"
  }
 },
 "nbformat": 4,
 "nbformat_minor": 2
}
