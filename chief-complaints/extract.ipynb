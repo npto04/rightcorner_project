{
 "cells": [
  {
   "cell_type": "code",
   "execution_count": 2,
   "id": "initial_id",
   "metadata": {
    "collapsed": true,
    "ExecuteTime": {
     "end_time": "2024-01-23T09:52:52.521000700Z",
     "start_time": "2024-01-23T09:52:50.540233Z"
    }
   },
   "outputs": [],
   "source": [
    "import pandas as pd"
   ]
  },
  {
   "cell_type": "markdown",
   "source": [
    "20-21"
   ],
   "metadata": {
    "collapsed": false
   },
   "id": "a7448dd3122ffb97"
  },
  {
   "cell_type": "code",
   "execution_count": 8,
   "outputs": [],
   "source": [
    "data = pd.read_excel('AE2021 Provider Level Tables.xlsx', skiprows=8, sheet_name='Table 2').iloc[2:,:]\n",
    "data['Year'] = '2020'\n",
    "data['Month'] = 'April'"
   ],
   "metadata": {
    "collapsed": false,
    "ExecuteTime": {
     "end_time": "2024-01-22T15:27:10.542565100Z",
     "start_time": "2024-01-22T15:27:08.731899900Z"
    }
   },
   "id": "2e1422bf290d88ae"
  },
  {
   "cell_type": "code",
   "execution_count": 9,
   "outputs": [],
   "source": [
    "data.to_csv('Diagnosis-20-21.csv', index=False)"
   ],
   "metadata": {
    "collapsed": false,
    "ExecuteTime": {
     "end_time": "2024-01-22T15:27:12.537319Z",
     "start_time": "2024-01-22T15:27:12.444636500Z"
    }
   },
   "id": "6ac6864a02de2b82"
  },
  {
   "cell_type": "markdown",
   "source": [
    "21-22"
   ],
   "metadata": {
    "collapsed": false
   },
   "id": "2dcfaa10f75fd392"
  },
  {
   "cell_type": "code",
   "execution_count": 13,
   "outputs": [
    {
     "data": {
      "text/plain": "        Code                          Provider Description      SNOMED-CT  \\\n2        ALL                                ALL SUBMITTERS      102556003   \n3        ALL                                ALL SUBMITTERS       10601006   \n4        ALL                                ALL SUBMITTERS      125593007   \n5        ALL                                ALL SUBMITTERS      125666000   \n6        ALL                                ALL SUBMITTERS      127278005   \n...      ...                                           ...            ...   \n21644  NLO24              YORK HOSPITAL URGENT CARE CENTRE       95666008   \n21645  NLO24              YORK HOSPITAL URGENT CARE CENTRE       95668009   \n21646  NLO24              YORK HOSPITAL URGENT CARE CENTRE        INVALID   \n21647  NLO24              YORK HOSPITAL URGENT CARE CENTRE  NOT SUBMITTED   \n21648  NLO15  YORKSHIRE DOCTORS URGENT CARE - VALE OF YORK  NOT SUBMITTED   \n\n                      SNOMED-CT Description    Total  \n2              Pain in upper limb (finding)   374010  \n3              Pain in lower limb (finding)   642303  \n4                 Injury of face (disorder)   181584  \n5                           Burn (disorder)   116077  \n6      Injury of upper extremity (disorder)  1400506  \n...                                     ...      ...  \n21644    Weakness of face muscles (finding)       10  \n21645                Pain in face (finding)      180  \n21646                               INVALID       15  \n21647                         NOT SUBMITTED     1630  \n21648                         NOT SUBMITTED     1865  \n\n[21647 rows x 5 columns]",
      "text/html": "<div>\n<style scoped>\n    .dataframe tbody tr th:only-of-type {\n        vertical-align: middle;\n    }\n\n    .dataframe tbody tr th {\n        vertical-align: top;\n    }\n\n    .dataframe thead th {\n        text-align: right;\n    }\n</style>\n<table border=\"1\" class=\"dataframe\">\n  <thead>\n    <tr style=\"text-align: right;\">\n      <th></th>\n      <th>Code</th>\n      <th>Provider Description</th>\n      <th>SNOMED-CT</th>\n      <th>SNOMED-CT Description</th>\n      <th>Total</th>\n    </tr>\n  </thead>\n  <tbody>\n    <tr>\n      <th>2</th>\n      <td>ALL</td>\n      <td>ALL SUBMITTERS</td>\n      <td>102556003</td>\n      <td>Pain in upper limb (finding)</td>\n      <td>374010</td>\n    </tr>\n    <tr>\n      <th>3</th>\n      <td>ALL</td>\n      <td>ALL SUBMITTERS</td>\n      <td>10601006</td>\n      <td>Pain in lower limb (finding)</td>\n      <td>642303</td>\n    </tr>\n    <tr>\n      <th>4</th>\n      <td>ALL</td>\n      <td>ALL SUBMITTERS</td>\n      <td>125593007</td>\n      <td>Injury of face (disorder)</td>\n      <td>181584</td>\n    </tr>\n    <tr>\n      <th>5</th>\n      <td>ALL</td>\n      <td>ALL SUBMITTERS</td>\n      <td>125666000</td>\n      <td>Burn (disorder)</td>\n      <td>116077</td>\n    </tr>\n    <tr>\n      <th>6</th>\n      <td>ALL</td>\n      <td>ALL SUBMITTERS</td>\n      <td>127278005</td>\n      <td>Injury of upper extremity (disorder)</td>\n      <td>1400506</td>\n    </tr>\n    <tr>\n      <th>...</th>\n      <td>...</td>\n      <td>...</td>\n      <td>...</td>\n      <td>...</td>\n      <td>...</td>\n    </tr>\n    <tr>\n      <th>21644</th>\n      <td>NLO24</td>\n      <td>YORK HOSPITAL URGENT CARE CENTRE</td>\n      <td>95666008</td>\n      <td>Weakness of face muscles (finding)</td>\n      <td>10</td>\n    </tr>\n    <tr>\n      <th>21645</th>\n      <td>NLO24</td>\n      <td>YORK HOSPITAL URGENT CARE CENTRE</td>\n      <td>95668009</td>\n      <td>Pain in face (finding)</td>\n      <td>180</td>\n    </tr>\n    <tr>\n      <th>21646</th>\n      <td>NLO24</td>\n      <td>YORK HOSPITAL URGENT CARE CENTRE</td>\n      <td>INVALID</td>\n      <td>INVALID</td>\n      <td>15</td>\n    </tr>\n    <tr>\n      <th>21647</th>\n      <td>NLO24</td>\n      <td>YORK HOSPITAL URGENT CARE CENTRE</td>\n      <td>NOT SUBMITTED</td>\n      <td>NOT SUBMITTED</td>\n      <td>1630</td>\n    </tr>\n    <tr>\n      <th>21648</th>\n      <td>NLO15</td>\n      <td>YORKSHIRE DOCTORS URGENT CARE - VALE OF YORK</td>\n      <td>NOT SUBMITTED</td>\n      <td>NOT SUBMITTED</td>\n      <td>1865</td>\n    </tr>\n  </tbody>\n</table>\n<p>21647 rows × 5 columns</p>\n</div>"
     },
     "execution_count": 13,
     "metadata": {},
     "output_type": "execute_result"
    }
   ],
   "source": [
    "pd.read_excel('AE2122 Provider Level Tables.xlsx', skiprows=9, sheet_name='Table 2').iloc[2:,:]"
   ],
   "metadata": {
    "collapsed": false,
    "ExecuteTime": {
     "end_time": "2024-01-22T15:30:45.564953800Z",
     "start_time": "2024-01-22T15:30:44.038257100Z"
    }
   },
   "id": "5f6cd7c547ae952f"
  },
  {
   "cell_type": "code",
   "execution_count": 14,
   "outputs": [],
   "source": [
    "data = pd.read_excel('AE2122 Provider Level Tables.xlsx', skiprows=9, sheet_name='Table 2').iloc[2:,:]\n",
    "data['Year'] = '2021'\n",
    "data['Month'] = 'April'"
   ],
   "metadata": {
    "collapsed": false,
    "ExecuteTime": {
     "end_time": "2024-01-22T15:30:57.787214600Z",
     "start_time": "2024-01-22T15:30:56.534115900Z"
    }
   },
   "id": "71f37426229d378"
  },
  {
   "cell_type": "code",
   "execution_count": 15,
   "outputs": [],
   "source": [
    "data.to_csv('Diagnosis-21-22.csv', index=False)"
   ],
   "metadata": {
    "collapsed": false,
    "ExecuteTime": {
     "end_time": "2024-01-22T15:31:09.489080500Z",
     "start_time": "2024-01-22T15:31:09.410107800Z"
    }
   },
   "id": "977d7395f2ce342f"
  },
  {
   "cell_type": "markdown",
   "source": [
    "17-18"
   ],
   "metadata": {
    "collapsed": false
   },
   "id": "ece947fb307fef91"
  },
  {
   "cell_type": "code",
   "execution_count": 78,
   "outputs": [],
   "source": [
    "data17 = pd.read_excel(\"April-2017-March-2018.xlsx\", skiprows=9, sheet_name='Table 2').iloc[2:,:]"
   ],
   "metadata": {
    "collapsed": false,
    "ExecuteTime": {
     "end_time": "2024-01-22T16:44:42.499347700Z",
     "start_time": "2024-01-22T16:44:41.772492200Z"
    }
   },
   "id": "8bddb15d0fc558d4"
  },
  {
   "cell_type": "code",
   "execution_count": 81,
   "outputs": [],
   "source": [
    "data17['Year'] = '2017'\n",
    "data17['Month'] = 'April'"
   ],
   "metadata": {
    "collapsed": false,
    "ExecuteTime": {
     "end_time": "2024-01-22T16:45:36.824404300Z",
     "start_time": "2024-01-22T16:45:36.790324500Z"
    }
   },
   "id": "69b5ca510e4c65be"
  },
  {
   "cell_type": "code",
   "execution_count": 82,
   "outputs": [],
   "source": [
    "data17.to_csv('Diagnosis-17-18.csv', index=False)"
   ],
   "metadata": {
    "collapsed": false,
    "ExecuteTime": {
     "end_time": "2024-01-22T16:45:59.820860100Z",
     "start_time": "2024-01-22T16:45:59.747834400Z"
    }
   },
   "id": "eb54fc93d3eff54e"
  },
  {
   "cell_type": "markdown",
   "source": [
    "18-19"
   ],
   "metadata": {
    "collapsed": false
   },
   "id": "bdc8dbff018ae3cb"
  },
  {
   "cell_type": "code",
   "execution_count": 83,
   "outputs": [],
   "source": [
    "data18 = pd.read_excel(\"April-2018-March-2019.xlsx\", skiprows=9, sheet_name='Table 2').iloc[2:,:]"
   ],
   "metadata": {
    "collapsed": false,
    "ExecuteTime": {
     "end_time": "2024-01-22T16:46:52.983993200Z",
     "start_time": "2024-01-22T16:46:51.883631Z"
    }
   },
   "id": "30aaf5daa8b23a64"
  },
  {
   "cell_type": "code",
   "execution_count": 85,
   "outputs": [],
   "source": [
    "data18['Year'] = '2018'\n",
    "data18['Month'] = 'April'"
   ],
   "metadata": {
    "collapsed": false,
    "ExecuteTime": {
     "end_time": "2024-01-22T16:47:41.016030400Z",
     "start_time": "2024-01-22T16:47:41.006327900Z"
    }
   },
   "id": "90c50a67392cd259"
  },
  {
   "cell_type": "code",
   "execution_count": 86,
   "outputs": [],
   "source": [
    "data18.to_csv('Diagnosis-18-19.csv', index=False)"
   ],
   "metadata": {
    "collapsed": false,
    "ExecuteTime": {
     "end_time": "2024-01-22T16:47:47.445328700Z",
     "start_time": "2024-01-22T16:47:47.358118900Z"
    }
   },
   "id": "51ec0ddbfb01e6e0"
  },
  {
   "cell_type": "markdown",
   "source": [
    "19-20"
   ],
   "metadata": {
    "collapsed": false
   },
   "id": "8698cf1a09b432ae"
  },
  {
   "cell_type": "code",
   "execution_count": 5,
   "outputs": [],
   "source": [
    "data19 = pd.read_excel(\"April-2019-March-2020.xlsx\", skiprows=9, sheet_name=\"Table 2\").iloc[2:,:]"
   ],
   "metadata": {
    "collapsed": false,
    "ExecuteTime": {
     "end_time": "2024-01-23T09:53:35.475019300Z",
     "start_time": "2024-01-23T09:53:33.335292100Z"
    }
   },
   "id": "5f045e272e012a71"
  },
  {
   "cell_type": "code",
   "execution_count": 7,
   "outputs": [],
   "source": [
    "data19['Year'] = '2019'\n",
    "data19['Month'] = 'April'"
   ],
   "metadata": {
    "collapsed": false,
    "ExecuteTime": {
     "end_time": "2024-01-23T09:55:03.729838500Z",
     "start_time": "2024-01-23T09:55:03.676879800Z"
    }
   },
   "id": "e4eb706de7af0890"
  },
  {
   "cell_type": "code",
   "execution_count": 36,
   "outputs": [
    {
     "data": {
      "text/plain": "        Code                               Provider Description  \\\n2        ALL                                     ALL SUBMITTERS   \n3        ALL                                     ALL SUBMITTERS   \n4        ALL                                     ALL SUBMITTERS   \n5        ALL                                     ALL SUBMITTERS   \n6        ALL                                     ALL SUBMITTERS   \n...      ...                                                ...   \n19881    RCB  YORK AND SCARBOROUGH TEACHING HOSPITALS NHS FO...   \n19882    RCB  YORK AND SCARBOROUGH TEACHING HOSPITALS NHS FO...   \n19883    RCB  YORK AND SCARBOROUGH TEACHING HOSPITALS NHS FO...   \n19884    RCB  YORK AND SCARBOROUGH TEACHING HOSPITALS NHS FO...   \n19885  NLO15       YORKSHIRE DOCTORS URGENT CARE - VALE OF YORK   \n\n           SNOMED-CT                 SNOMED-CT Description    Total  Year  \\\n2          102556003          Pain in upper limb (finding)   347948  2019   \n3           10601006          Pain in lower limb (finding)   563146  2019   \n4          125593007             Injury of face (disorder)   179371  2019   \n5          125666000                       Burn (disorder)   113231  2019   \n6          127278005  Injury of upper extremity (disorder)  1349737  2019   \n...              ...                                   ...      ...   ...   \n19881       95666008    Weakness of face muscles (finding)      510  2019   \n19882       95668009                Pain in face (finding)     1340  2019   \n19883        INVALID                               INVALID     1475  2019   \n19884  NOT SUBMITTED                         NOT SUBMITTED      985  2019   \n19885  NOT SUBMITTED                         NOT SUBMITTED    29400  2019   \n\n       Month  \n2      April  \n3      April  \n4      April  \n5      April  \n6      April  \n...      ...  \n19881  April  \n19882  April  \n19883  April  \n19884  April  \n19885  April  \n\n[19884 rows x 7 columns]",
      "text/html": "<div>\n<style scoped>\n    .dataframe tbody tr th:only-of-type {\n        vertical-align: middle;\n    }\n\n    .dataframe tbody tr th {\n        vertical-align: top;\n    }\n\n    .dataframe thead th {\n        text-align: right;\n    }\n</style>\n<table border=\"1\" class=\"dataframe\">\n  <thead>\n    <tr style=\"text-align: right;\">\n      <th></th>\n      <th>Code</th>\n      <th>Provider Description</th>\n      <th>SNOMED-CT</th>\n      <th>SNOMED-CT Description</th>\n      <th>Total</th>\n      <th>Year</th>\n      <th>Month</th>\n    </tr>\n  </thead>\n  <tbody>\n    <tr>\n      <th>2</th>\n      <td>ALL</td>\n      <td>ALL SUBMITTERS</td>\n      <td>102556003</td>\n      <td>Pain in upper limb (finding)</td>\n      <td>347948</td>\n      <td>2019</td>\n      <td>April</td>\n    </tr>\n    <tr>\n      <th>3</th>\n      <td>ALL</td>\n      <td>ALL SUBMITTERS</td>\n      <td>10601006</td>\n      <td>Pain in lower limb (finding)</td>\n      <td>563146</td>\n      <td>2019</td>\n      <td>April</td>\n    </tr>\n    <tr>\n      <th>4</th>\n      <td>ALL</td>\n      <td>ALL SUBMITTERS</td>\n      <td>125593007</td>\n      <td>Injury of face (disorder)</td>\n      <td>179371</td>\n      <td>2019</td>\n      <td>April</td>\n    </tr>\n    <tr>\n      <th>5</th>\n      <td>ALL</td>\n      <td>ALL SUBMITTERS</td>\n      <td>125666000</td>\n      <td>Burn (disorder)</td>\n      <td>113231</td>\n      <td>2019</td>\n      <td>April</td>\n    </tr>\n    <tr>\n      <th>6</th>\n      <td>ALL</td>\n      <td>ALL SUBMITTERS</td>\n      <td>127278005</td>\n      <td>Injury of upper extremity (disorder)</td>\n      <td>1349737</td>\n      <td>2019</td>\n      <td>April</td>\n    </tr>\n    <tr>\n      <th>...</th>\n      <td>...</td>\n      <td>...</td>\n      <td>...</td>\n      <td>...</td>\n      <td>...</td>\n      <td>...</td>\n      <td>...</td>\n    </tr>\n    <tr>\n      <th>19881</th>\n      <td>RCB</td>\n      <td>YORK AND SCARBOROUGH TEACHING HOSPITALS NHS FO...</td>\n      <td>95666008</td>\n      <td>Weakness of face muscles (finding)</td>\n      <td>510</td>\n      <td>2019</td>\n      <td>April</td>\n    </tr>\n    <tr>\n      <th>19882</th>\n      <td>RCB</td>\n      <td>YORK AND SCARBOROUGH TEACHING HOSPITALS NHS FO...</td>\n      <td>95668009</td>\n      <td>Pain in face (finding)</td>\n      <td>1340</td>\n      <td>2019</td>\n      <td>April</td>\n    </tr>\n    <tr>\n      <th>19883</th>\n      <td>RCB</td>\n      <td>YORK AND SCARBOROUGH TEACHING HOSPITALS NHS FO...</td>\n      <td>INVALID</td>\n      <td>INVALID</td>\n      <td>1475</td>\n      <td>2019</td>\n      <td>April</td>\n    </tr>\n    <tr>\n      <th>19884</th>\n      <td>RCB</td>\n      <td>YORK AND SCARBOROUGH TEACHING HOSPITALS NHS FO...</td>\n      <td>NOT SUBMITTED</td>\n      <td>NOT SUBMITTED</td>\n      <td>985</td>\n      <td>2019</td>\n      <td>April</td>\n    </tr>\n    <tr>\n      <th>19885</th>\n      <td>NLO15</td>\n      <td>YORKSHIRE DOCTORS URGENT CARE - VALE OF YORK</td>\n      <td>NOT SUBMITTED</td>\n      <td>NOT SUBMITTED</td>\n      <td>29400</td>\n      <td>2019</td>\n      <td>April</td>\n    </tr>\n  </tbody>\n</table>\n<p>19884 rows × 7 columns</p>\n</div>"
     },
     "execution_count": 36,
     "metadata": {},
     "output_type": "execute_result"
    }
   ],
   "source": [
    "data19"
   ],
   "metadata": {
    "collapsed": false,
    "ExecuteTime": {
     "end_time": "2024-01-23T10:18:17.320295300Z",
     "start_time": "2024-01-23T10:18:17.275443300Z"
    }
   },
   "id": "56c917815e788f2c"
  },
  {
   "cell_type": "code",
   "execution_count": 10,
   "outputs": [],
   "source": [
    "data19.to_csv(\"Diagnosis-19-20.csv\", index=False)"
   ],
   "metadata": {
    "collapsed": false,
    "ExecuteTime": {
     "end_time": "2024-01-23T09:58:23.646037300Z",
     "start_time": "2024-01-23T09:58:23.467649700Z"
    }
   },
   "id": "be0f212be20a1e8b"
  },
  {
   "cell_type": "markdown",
   "source": [
    "22-23"
   ],
   "metadata": {
    "collapsed": false
   },
   "id": "9af8054193d7e1d4"
  },
  {
   "cell_type": "markdown",
   "source": [
    "filtering out unused columns\n",
    "Used columns: Provider Description, SNOMED-CT, SNOMED-CT Description, Total, Year, Month"
   ],
   "metadata": {
    "collapsed": false
   },
   "id": "4b79dc420201c93f"
  },
  {
   "cell_type": "code",
   "execution_count": 11,
   "outputs": [],
   "source": [
    "data = pd.read_csv('AE2223_ECDS_pla_csv_v3.csv').iloc[1:,:]"
   ],
   "metadata": {
    "collapsed": false,
    "ExecuteTime": {
     "end_time": "2024-01-23T09:58:38.354573400Z",
     "start_time": "2024-01-23T09:58:37.552134300Z"
    }
   },
   "id": "402ad71895d31ea1"
  },
  {
   "cell_type": "code",
   "execution_count": 12,
   "outputs": [],
   "source": [
    "data = data[data.MEASURE_TYPE.str.contains(r'Chief Complaint')].copy()"
   ],
   "metadata": {
    "collapsed": false,
    "ExecuteTime": {
     "end_time": "2024-01-23T09:58:39.944991200Z",
     "start_time": "2024-01-23T09:58:39.707903100Z"
    }
   },
   "id": "497378be5921cb29"
  },
  {
   "cell_type": "code",
   "execution_count": 27,
   "outputs": [],
   "source": [
    "data['SNOMED-CT Description'] = data.MEASURE_TYPE.apply(lambda x: x.split(':')[-1].split('(')[0]+f\"({x.split(':')[-1].split('(')[1].strip()})\")"
   ],
   "metadata": {
    "collapsed": false,
    "ExecuteTime": {
     "end_time": "2024-01-23T10:11:40.344812800Z",
     "start_time": "2024-01-23T10:11:40.263949100Z"
    }
   },
   "id": "ca6099a0d9831db8"
  },
  {
   "cell_type": "code",
   "execution_count": 14,
   "outputs": [],
   "source": [
    "data['SNOMED-CT'] = data.MEASURE_TYPE.apply(lambda x: x.split(':')[-1].split('(')[-1])"
   ],
   "metadata": {
    "collapsed": false,
    "ExecuteTime": {
     "end_time": "2024-01-23T09:58:44.611556800Z",
     "start_time": "2024-01-23T09:58:44.583344100Z"
    }
   },
   "id": "ebb494601ae291c1"
  },
  {
   "cell_type": "code",
   "execution_count": 40,
   "outputs": [
    {
     "data": {
      "text/plain": "        REPORTING_PERIOD   Code                   Provider Description  \\\n1                   2223    ENG                                ENGLAND   \n2                   2223    ENG                                ENGLAND   \n3                   2223    ENG                                ENGLAND   \n4                   2223    ENG                                ENGLAND   \n5                   2223    ENG                                ENGLAND   \n...                  ...    ...                                    ...   \n266046              2223  W5R9N  BLACKPOOL VICTORIA URGENT CARE CENTRE   \n266047              2223  W5R9N  BLACKPOOL VICTORIA URGENT CARE CENTRE   \n266048              2223  W5R9N  BLACKPOOL VICTORIA URGENT CARE CENTRE   \n266049              2223  W5R9N  BLACKPOOL VICTORIA URGENT CARE CENTRE   \n266050              2223  W5R9N  BLACKPOOL VICTORIA URGENT CARE CENTRE   \n\n                                             MEASURE_TYPE      MEASURE  \\\n1       Chief Complaint: Abdominal pain (finding (2152...  ATTENDANCES   \n2          Chief Complaint: Abrasion (disorder (399963005  ATTENDANCES   \n3             Chief Complaint: Anxiety (finding (48694002  ATTENDANCES   \n4       Chief Complaint: Apnea in the newborn (finding...  ATTENDANCES   \n5            Chief Complaint: Asthenia (finding (13791008  ATTENDANCES   \n...                                                   ...          ...   \n266046        Chief Complaint: Stridor (finding (70407001  ATTENDANCES   \n266047  Chief Complaint: Visual disturbance (disorder ...  ATTENDANCES   \n266048     Chief Complaint: Vomiting (disorder (422400008  ATTENDANCES   \n266049  Chief Complaint: Weakness of face muscles (fin...  ATTENDANCES   \n266050  Chief Complaint: Wound care (regime/therapy (2...  ATTENDANCES   \n\n          Total                SNOMED-CT Description  SNOMED-CT  Year  Month  \n1       1427774             Abdominal pain (finding)   21522001  2022  April  \n2         37224                  Abrasion (disorder)  399963005  2022  April  \n3         29877                    Anxiety (finding)   48694002  2022  April  \n4          2919       Apnea in the newborn (finding)   13094009  2022  April  \n5        537661                   Asthenia (finding)   13791008  2022  April  \n...         ...                                  ...        ...   ...    ...  \n266046        *                    Stridor (finding)   70407001  2022  April  \n266047        *        Visual disturbance (disorder)   63102001  2022  April  \n266048        *                  Vomiting (disorder)  422400008  2022  April  \n266049        *   Weakness of face muscles (finding)   95666008  2022  April  \n266050        *          Wound care (regime/therapy)  225358003  2022  April  \n\n[21915 rows x 10 columns]",
      "text/html": "<div>\n<style scoped>\n    .dataframe tbody tr th:only-of-type {\n        vertical-align: middle;\n    }\n\n    .dataframe tbody tr th {\n        vertical-align: top;\n    }\n\n    .dataframe thead th {\n        text-align: right;\n    }\n</style>\n<table border=\"1\" class=\"dataframe\">\n  <thead>\n    <tr style=\"text-align: right;\">\n      <th></th>\n      <th>REPORTING_PERIOD</th>\n      <th>Code</th>\n      <th>Provider Description</th>\n      <th>MEASURE_TYPE</th>\n      <th>MEASURE</th>\n      <th>Total</th>\n      <th>SNOMED-CT Description</th>\n      <th>SNOMED-CT</th>\n      <th>Year</th>\n      <th>Month</th>\n    </tr>\n  </thead>\n  <tbody>\n    <tr>\n      <th>1</th>\n      <td>2223</td>\n      <td>ENG</td>\n      <td>ENGLAND</td>\n      <td>Chief Complaint: Abdominal pain (finding (2152...</td>\n      <td>ATTENDANCES</td>\n      <td>1427774</td>\n      <td>Abdominal pain (finding)</td>\n      <td>21522001</td>\n      <td>2022</td>\n      <td>April</td>\n    </tr>\n    <tr>\n      <th>2</th>\n      <td>2223</td>\n      <td>ENG</td>\n      <td>ENGLAND</td>\n      <td>Chief Complaint: Abrasion (disorder (399963005</td>\n      <td>ATTENDANCES</td>\n      <td>37224</td>\n      <td>Abrasion (disorder)</td>\n      <td>399963005</td>\n      <td>2022</td>\n      <td>April</td>\n    </tr>\n    <tr>\n      <th>3</th>\n      <td>2223</td>\n      <td>ENG</td>\n      <td>ENGLAND</td>\n      <td>Chief Complaint: Anxiety (finding (48694002</td>\n      <td>ATTENDANCES</td>\n      <td>29877</td>\n      <td>Anxiety (finding)</td>\n      <td>48694002</td>\n      <td>2022</td>\n      <td>April</td>\n    </tr>\n    <tr>\n      <th>4</th>\n      <td>2223</td>\n      <td>ENG</td>\n      <td>ENGLAND</td>\n      <td>Chief Complaint: Apnea in the newborn (finding...</td>\n      <td>ATTENDANCES</td>\n      <td>2919</td>\n      <td>Apnea in the newborn (finding)</td>\n      <td>13094009</td>\n      <td>2022</td>\n      <td>April</td>\n    </tr>\n    <tr>\n      <th>5</th>\n      <td>2223</td>\n      <td>ENG</td>\n      <td>ENGLAND</td>\n      <td>Chief Complaint: Asthenia (finding (13791008</td>\n      <td>ATTENDANCES</td>\n      <td>537661</td>\n      <td>Asthenia (finding)</td>\n      <td>13791008</td>\n      <td>2022</td>\n      <td>April</td>\n    </tr>\n    <tr>\n      <th>...</th>\n      <td>...</td>\n      <td>...</td>\n      <td>...</td>\n      <td>...</td>\n      <td>...</td>\n      <td>...</td>\n      <td>...</td>\n      <td>...</td>\n      <td>...</td>\n      <td>...</td>\n    </tr>\n    <tr>\n      <th>266046</th>\n      <td>2223</td>\n      <td>W5R9N</td>\n      <td>BLACKPOOL VICTORIA URGENT CARE CENTRE</td>\n      <td>Chief Complaint: Stridor (finding (70407001</td>\n      <td>ATTENDANCES</td>\n      <td>*</td>\n      <td>Stridor (finding)</td>\n      <td>70407001</td>\n      <td>2022</td>\n      <td>April</td>\n    </tr>\n    <tr>\n      <th>266047</th>\n      <td>2223</td>\n      <td>W5R9N</td>\n      <td>BLACKPOOL VICTORIA URGENT CARE CENTRE</td>\n      <td>Chief Complaint: Visual disturbance (disorder ...</td>\n      <td>ATTENDANCES</td>\n      <td>*</td>\n      <td>Visual disturbance (disorder)</td>\n      <td>63102001</td>\n      <td>2022</td>\n      <td>April</td>\n    </tr>\n    <tr>\n      <th>266048</th>\n      <td>2223</td>\n      <td>W5R9N</td>\n      <td>BLACKPOOL VICTORIA URGENT CARE CENTRE</td>\n      <td>Chief Complaint: Vomiting (disorder (422400008</td>\n      <td>ATTENDANCES</td>\n      <td>*</td>\n      <td>Vomiting (disorder)</td>\n      <td>422400008</td>\n      <td>2022</td>\n      <td>April</td>\n    </tr>\n    <tr>\n      <th>266049</th>\n      <td>2223</td>\n      <td>W5R9N</td>\n      <td>BLACKPOOL VICTORIA URGENT CARE CENTRE</td>\n      <td>Chief Complaint: Weakness of face muscles (fin...</td>\n      <td>ATTENDANCES</td>\n      <td>*</td>\n      <td>Weakness of face muscles (finding)</td>\n      <td>95666008</td>\n      <td>2022</td>\n      <td>April</td>\n    </tr>\n    <tr>\n      <th>266050</th>\n      <td>2223</td>\n      <td>W5R9N</td>\n      <td>BLACKPOOL VICTORIA URGENT CARE CENTRE</td>\n      <td>Chief Complaint: Wound care (regime/therapy (2...</td>\n      <td>ATTENDANCES</td>\n      <td>*</td>\n      <td>Wound care (regime/therapy)</td>\n      <td>225358003</td>\n      <td>2022</td>\n      <td>April</td>\n    </tr>\n  </tbody>\n</table>\n<p>21915 rows × 10 columns</p>\n</div>"
     },
     "execution_count": 40,
     "metadata": {},
     "output_type": "execute_result"
    }
   ],
   "source": [
    "data"
   ],
   "metadata": {
    "collapsed": false,
    "ExecuteTime": {
     "end_time": "2024-01-23T10:21:42.004610400Z",
     "start_time": "2024-01-23T10:21:41.922243500Z"
    }
   },
   "id": "5456c121b0f4453c"
  },
  {
   "cell_type": "code",
   "execution_count": 33,
   "outputs": [],
   "source": [
    "data.rename(columns={'MEASURE_VALUE': 'Total', 'ORG_DESCRIPTION': 'Provider Description', 'ORG_CODE': 'Code'}, inplace=True)"
   ],
   "metadata": {
    "collapsed": false,
    "ExecuteTime": {
     "end_time": "2024-01-23T10:17:28.356495800Z",
     "start_time": "2024-01-23T10:17:28.338185Z"
    }
   },
   "id": "45cdd57a22d5c98b"
  },
  {
   "cell_type": "code",
   "execution_count": 34,
   "outputs": [],
   "source": [
    "data['Year'] = '2022'\n",
    "data['Month'] = 'April'"
   ],
   "metadata": {
    "collapsed": false,
    "ExecuteTime": {
     "end_time": "2024-01-23T10:17:31.545929Z",
     "start_time": "2024-01-23T10:17:31.523999300Z"
    }
   },
   "id": "adef5e3551d5c485"
  },
  {
   "cell_type": "code",
   "execution_count": 39,
   "outputs": [],
   "source": [
    "data[['Code', 'Provider Description', 'SNOMED-CT', 'SNOMED-CT Description', 'Total', 'Year', 'Month']].to_csv('Diagnosis-22-23.csv', index=False)"
   ],
   "metadata": {
    "collapsed": false,
    "ExecuteTime": {
     "end_time": "2024-01-23T10:21:31.085669700Z",
     "start_time": "2024-01-23T10:21:30.782738900Z"
    }
   },
   "id": "cd04d9883db9040f"
  },
  {
   "cell_type": "code",
   "execution_count": null,
   "outputs": [],
   "source": [],
   "metadata": {
    "collapsed": false
   },
   "id": "3d2e0b5d755e01d1"
  },
  {
   "cell_type": "markdown",
   "source": [],
   "metadata": {
    "collapsed": false
   },
   "id": "d7cc9d88cf5897bd"
  }
 ],
 "metadata": {
  "kernelspec": {
   "display_name": "Python 3",
   "language": "python",
   "name": "python3"
  },
  "language_info": {
   "codemirror_mode": {
    "name": "ipython",
    "version": 2
   },
   "file_extension": ".py",
   "mimetype": "text/x-python",
   "name": "python",
   "nbconvert_exporter": "python",
   "pygments_lexer": "ipython2",
   "version": "2.7.6"
  }
 },
 "nbformat": 4,
 "nbformat_minor": 5
}
